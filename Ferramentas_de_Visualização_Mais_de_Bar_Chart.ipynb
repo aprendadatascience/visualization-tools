{
  "nbformat": 4,
  "nbformat_minor": 0,
  "metadata": {
    "colab": {
      "name": "Ferramentas de Visualização - Mais de Bar Chart",
      "provenance": [],
      "authorship_tag": "ABX9TyPcxJxaqB3y5b+sJUsEjwYn",
      "include_colab_link": true
    },
    "kernelspec": {
      "name": "python3",
      "display_name": "Python 3"
    }
  },
  "cells": [
    {
      "cell_type": "markdown",
      "metadata": {
        "id": "view-in-github",
        "colab_type": "text"
      },
      "source": [
        "<a href=\"https://colab.research.google.com/github/aprendadatascience/visualization-tools/blob/master/Ferramentas_de_Visualiza%C3%A7%C3%A3o_Mais_de_Bar_Chart.ipynb\" target=\"_parent\"><img src=\"https://colab.research.google.com/assets/colab-badge.svg\" alt=\"Open In Colab\"/></a>"
      ]
    },
    {
      "cell_type": "markdown",
      "metadata": {
        "id": "sijJvxB49L9y",
        "colab_type": "text"
      },
      "source": [
        "# Aprenda Data Science \n",
        "## Ferramentas de Visualização - Um pouco mais de Bar Chart\n",
        "Exemplo utilizando a biblioteca Calendar"
      ]
    },
    {
      "cell_type": "code",
      "metadata": {
        "id": "SJ9FX1Rg_H1A",
        "colab_type": "code",
        "colab": {}
      },
      "source": [
        "# Importe as bibliotecas necessárias, testaremos a biblioteca calenda\n",
        "import numpy as np\n",
        "import matplotlib.pyplot as plt\n",
        "import calendar"
      ],
      "execution_count": 1,
      "outputs": []
    },
    {
      "cell_type": "code",
      "metadata": {
        "id": "gBaAO7RF-wZq",
        "colab_type": "code",
        "colab": {}
      },
      "source": [
        "# Crie um array para utilizarmos como os 12 meses do ano\n",
        "months = list(range(1,13))\n",
        "# Crie um array com a quantidade de vendas entre 100 e 200\n",
        "sold_quantity = [round(np.random.uniform(100,200)) for x in range(1,13)]"
      ],
      "execution_count": 2,
      "outputs": []
    },
    {
      "cell_type": "code",
      "metadata": {
        "id": "te_wysmr_PrX",
        "colab_type": "code",
        "colab": {
          "base_uri": "https://localhost:8080/",
          "height": 269
        },
        "outputId": "484a98fc-6dac-4ef3-8871-cbcb3ffc5e7a"
      },
      "source": [
        "# Crie a Figura para receber essa visualização\n",
        "figure, axis = plt.subplots()"
      ],
      "execution_count": 12,
      "outputs": [
        {
          "output_type": "display_data",
          "data": {
            "image/png": "[encoded data removed]",
            "text/plain": [
              "<Figure size 432x288 with 1 Axes>"
            ]
          },
          "metadata": {
            "tags": [],
            "needs_background": "light"
          }
        }
      ]
    },
    {
      "cell_type": "code",
      "metadata": {
        "id": "OtCdRs9Z_X12",
        "colab_type": "code",
        "colab": {
          "base_uri": "https://localhost:8080/",
          "height": 695
        },
        "outputId": "3168b5f4-7916-4417-cad7-0cde889702df"
      },
      "source": [
        "plt.xticks(months, calendar.month_name[1:13], rotation =20)"
      ],
      "execution_count": 14,
      "outputs": [
        {
          "output_type": "execute_result",
          "data": {
            "text/plain": [
              "([<matplotlib.axis.XTick at 0x7fcbee85cbe0>,\n",
              "  <matplotlib.axis.XTick at 0x7fcbee85cba8>,\n",
              "  <matplotlib.axis.XTick at 0x7fcbee85c7f0>,\n",
              "  <matplotlib.axis.XTick at 0x7fcbee8010f0>,\n",
              "  <matplotlib.axis.XTick at 0x7fcbee801518>,\n",
              "  <matplotlib.axis.XTick at 0x7fcbee8019b0>,\n",
              "  <matplotlib.axis.XTick at 0x7fcbee801e48>,\n",
              "  <matplotlib.axis.XTick at 0x7fcbee806320>,\n",
              "  <matplotlib.axis.XTick at 0x7fcbee8067b8>,\n",
              "  <matplotlib.axis.XTick at 0x7fcbee806c50>,\n",
              "  <matplotlib.axis.XTick at 0x7fcbee801a90>,\n",
              "  <matplotlib.axis.XTick at 0x7fcbee806c18>],\n",
              " [Text(0, 0, 'January'),\n",
              "  Text(0, 0, 'February'),\n",
              "  Text(0, 0, 'March'),\n",
              "  Text(0, 0, 'April'),\n",
              "  Text(0, 0, 'May'),\n",
              "  Text(0, 0, 'June'),\n",
              "  Text(0, 0, 'July'),\n",
              "  Text(0, 0, 'August'),\n",
              "  Text(0, 0, 'September'),\n",
              "  Text(0, 0, 'October'),\n",
              "  Text(0, 0, 'November'),\n",
              "  Text(0, 0, 'December')])"
            ]
          },
          "metadata": {
            "tags": []
          },
          "execution_count": 14
        },
        {
          "output_type": "display_data",
          "data": {
            "image/png": "[encoded data removed]",
            "text/plain": [
              "<Figure size 432x288 with 1 Axes>"
            ]
          },
          "metadata": {
            "tags": [],
            "needs_background": "light"
          }
        }
      ]
    },
    {
      "cell_type": "code",
      "metadata": {
        "id": "KdYWkI3lAFgG",
        "colab_type": "code",
        "colab": {
          "base_uri": "https://localhost:8080/",
          "height": 34
        },
        "outputId": "d9127877-6488-4c6e-884f-909b097eedcc"
      },
      "source": [
        "\n",
        "\n",
        "\n"
      ],
      "execution_count": 19,
      "outputs": [
        {
          "output_type": "execute_result",
          "data": {
            "text/plain": [
              "<BarContainer object of 12 artists>"
            ]
          },
          "metadata": {
            "tags": []
          },
          "execution_count": 19
        }
      ]
    },
    {
      "cell_type": "code",
      "metadata": {
        "id": "kDJZWJD6APyM",
        "colab_type": "code",
        "colab": {
          "base_uri": "https://localhost:8080/",
          "height": 392
        },
        "outputId": "696bad4f-a303-4ed0-b10f-0d607b603a6e"
      },
      "source": [
        "plt.rcParams[\"figure.figsize\"] = (10,6)\n",
        "# Crie a Figura para receber essa visualização\n",
        "figure, axis = plt.subplots()\n",
        "plt.xticks(months, calendar.month_name[1:13], rotation =20)\n",
        "plot = axis.bar(months, sold_quantity)\n",
        "for rectangle in plot:\n",
        "  height = rectangle.get_height()\n",
        "  axis.text(rectangle.get_x() + rectangle.get_width() / 2., 1.002 * height, '%d' % int(height), ha='center', va= 'bottom')\n"
      ],
      "execution_count": 20,
      "outputs": [
        {
          "output_type": "display_data",
          "data": {
            "image/png": "[encoded data removed]",
            "text/plain": [
              "<Figure size 720x432 with 1 Axes>"
            ]
          },
          "metadata": {
            "tags": [],
            "needs_background": "light"
          }
        }
      ]
    },
    {
      "cell_type": "code",
      "metadata": {
        "id": "sgfK5JsqAR48",
        "colab_type": "code",
        "colab": {}
      },
      "source": [
        ""
      ],
      "execution_count": 8,
      "outputs": []
    },
    {
      "cell_type": "code",
      "metadata": {
        "id": "WCqFbhZIBFeY",
        "colab_type": "code",
        "colab": {}
      },
      "source": [
        ""
      ],
      "execution_count": null,
      "outputs": []
    }
  ]
}