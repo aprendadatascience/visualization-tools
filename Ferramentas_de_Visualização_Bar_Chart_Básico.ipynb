{
  "nbformat": 4,
  "nbformat_minor": 0,
  "metadata": {
    "colab": {
      "name": "Ferramentas de Visualização - Bar Chart Básico",
      "provenance": [],
      "collapsed_sections": [],
      "authorship_tag": "ABX9TyOdNfpLcNysUEvMfN4lKUsE",
      "include_colab_link": true
    },
    "kernelspec": {
      "name": "python3",
      "display_name": "Python 3"
    }
  },
  "cells": [
    {
      "cell_type": "markdown",
      "metadata": {
        "id": "view-in-github",
        "colab_type": "text"
      },
      "source": [
        "<a href=\"https://colab.research.google.com/github/aprendadatascience/visualization-tools/blob/master/Ferramentas_de_Visualiza%C3%A7%C3%A3o_Bar_Chart_B%C3%A1sico.ipynb\" target=\"_parent\"><img src=\"https://colab.research.google.com/assets/colab-badge.svg\" alt=\"Open In Colab\"/></a>"
      ]
    },
    {
      "cell_type": "markdown",
      "metadata": {
        "id": "mdI_xrGfSKXz",
        "colab_type": "text"
      },
      "source": [
        "\n",
        "# Aprenda Data Science \n",
        "## Ferramentas de Visualização - Bar Chart"
      ]
    },
    {
      "cell_type": "markdown",
      "metadata": {
        "id": "WcH0Bl-lV0f8",
        "colab_type": "text"
      },
      "source": [
        "## Gráfico de Barras\n",
        "O gráfico de barras é uma boa escolha para mostrar como uma quantidade varia em um conjunto discreto de itens ou itens categóricos. Mostraremos alguns exemplo;\n",
        "\n",
        "Funcionam melhor para mostrar grandes variações nos dados.\n",
        "\n"
      ]
    },
    {
      "cell_type": "markdown",
      "metadata": {
        "id": "uCQsco5N1S5q",
        "colab_type": "text"
      },
      "source": [
        "#### Exemplo da quantidade de prêmios da Academy Awards foram vencidos por cada tipo de filmes do cinema;"
      ]
    },
    {
      "cell_type": "code",
      "metadata": {
        "id": "UXqjEXJUBmz8",
        "colab_type": "code",
        "colab": {}
      },
      "source": [
        "#importar biblioteca para plot\n",
        "import matplotlib.pyplot as plt"
      ],
      "execution_count": null,
      "outputs": []
    },
    {
      "cell_type": "code",
      "metadata": {
        "id": "3dKnjMh6B3Il",
        "colab_type": "code",
        "colab": {}
      },
      "source": [
        "# crie um array de string com os filmes que serão avaliados\n",
        "movies = ['Anie Hall', 'Ben-Hur', 'Casablanca', 'Gandhi', 'West Side Story']\n",
        "# crie um array com a quantidade de prêmios que cada filme ganhou\n",
        "num_oscars = [5,11,3,8,10]"
      ],
      "execution_count": null,
      "outputs": []
    },
    {
      "cell_type": "code",
      "metadata": {
        "id": "Mdl-N6TNB7tK",
        "colab_type": "code",
        "colab": {
          "base_uri": "https://localhost:8080/",
          "height": 282
        },
        "outputId": "8a64d449-2aa5-41f7-83eb-25258d94a1ab"
      },
      "source": [
        "# faça um plot considerando a quantidade de filmes no eixo x e a quantidade de prêmios no eixo Y\n",
        "plt.bar(range(len(movies)), num_oscars)"
      ],
      "execution_count": null,
      "outputs": [
        {
          "output_type": "execute_result",
          "data": {
            "text/plain": [
              "<BarContainer object of 5 artists>"
            ]
          },
          "metadata": {
            "tags": []
          },
          "execution_count": 38
        },
        {
          "output_type": "display_data",
          "data": {
            "image/png": "[encoded data removed]",
            "text/plain": [
              "<Figure size 432x288 with 1 Axes>"
            ]
          },
          "metadata": {
            "tags": [],
            "needs_background": "light"
          }
        }
      ]
    },
    {
      "cell_type": "code",
      "metadata": {
        "id": "fqi-iWuYHYN6",
        "colab_type": "code",
        "colab": {
          "base_uri": "https://localhost:8080/",
          "height": 298
        },
        "outputId": "bfbd63e4-196e-4641-d6fc-7109706d93ca"
      },
      "source": [
        "# customize o título e eixos\n",
        "plt.title('Meus filmes favoritos')\n",
        "plt.ylabel('# de prêmios')\n",
        "plt.bar(range(len(movies)), num_oscars)"
      ],
      "execution_count": null,
      "outputs": [
        {
          "output_type": "execute_result",
          "data": {
            "text/plain": [
              "<BarContainer object of 5 artists>"
            ]
          },
          "metadata": {
            "tags": []
          },
          "execution_count": 39
        },
        {
          "output_type": "display_data",
          "data": {
            "image/png": "[encoded data removed]",
            "text/plain": [
              "<Figure size 432x288 with 1 Axes>"
            ]
          },
          "metadata": {
            "tags": [],
            "needs_background": "light"
          }
        }
      ]
    },
    {
      "cell_type": "code",
      "metadata": {
        "id": "6G6-SAkAIDqi",
        "colab_type": "code",
        "colab": {
          "base_uri": "https://localhost:8080/",
          "height": 451
        },
        "outputId": "93bc0d22-b6ef-44fd-a0a5-9a65aa366ecd"
      },
      "source": [
        "# customize o título e eixos\n",
        "plt.title('Meus filmes favoritos')\n",
        "plt.ylabel('# de prêmios')\n",
        "plt.bar(range(len(movies)), num_oscars)\n",
        "# customize cada item no eixo x\n",
        "plt.xticks(range(len(movies)),movies)"
      ],
      "execution_count": null,
      "outputs": [
        {
          "output_type": "execute_result",
          "data": {
            "text/plain": [
              "([<matplotlib.axis.XTick at 0x7f0bf2dc2390>,\n",
              "  <matplotlib.axis.XTick at 0x7f0bf2dc2358>,\n",
              "  <matplotlib.axis.XTick at 0x7f0bf2dcfd68>,\n",
              "  <matplotlib.axis.XTick at 0x7f0bf286b940>,\n",
              "  <matplotlib.axis.XTick at 0x7f0bf286bdd8>],\n",
              " [Text(0, 0, 'Anie Hall'),\n",
              "  Text(0, 0, 'Ben-Hur'),\n",
              "  Text(0, 0, 'Casablanca'),\n",
              "  Text(0, 0, 'Gandhi'),\n",
              "  Text(0, 0, 'West Side Story')])"
            ]
          },
          "metadata": {
            "tags": []
          },
          "execution_count": 40
        },
        {
          "output_type": "display_data",
          "data": {
            "image/png": "[encoded data removed]",
            "text/plain": [
              "<Figure size 432x288 with 1 Axes>"
            ]
          },
          "metadata": {
            "tags": [],
            "needs_background": "light"
          }
        }
      ]
    },
    {
      "cell_type": "markdown",
      "metadata": {
        "id": "fZkHWDYYRd_h",
        "colab_type": "text"
      },
      "source": [
        "### Exemplo do número de menções a Data Science por Ano"
      ]
    },
    {
      "cell_type": "code",
      "metadata": {
        "id": "l86ShFSsCVvm",
        "colab_type": "code",
        "colab": {}
      },
      "source": [
        "# Crie dois arrays, um com os anos e outro com a quantidade de menções a data science\n",
        "years = [2017,2018,2019,2020]\n",
        "mentions = [360,364,398,420]"
      ],
      "execution_count": null,
      "outputs": []
    },
    {
      "cell_type": "code",
      "metadata": {
        "id": "OkVxgeOBCDLm",
        "colab_type": "code",
        "colab": {
          "base_uri": "https://localhost:8080/",
          "height": 282
        },
        "outputId": "ae24e376-ac05-48c4-d662-4f59a03b589c"
      },
      "source": [
        "# Realize o plot dos anos\n",
        "plt.bar(years,mentions,0.8)\n",
        "# cutomizar os eixos X e Y\n",
        "plt.xticks(years)\n",
        "plt.ylabel('# de vezes ouvi sobre datascience')\n",
        "\n"
      ],
      "execution_count": null,
      "outputs": [
        {
          "output_type": "execute_result",
          "data": {
            "text/plain": [
              "Text(0, 0.5, '# de vezes ouvi sobre datascience')"
            ]
          },
          "metadata": {
            "tags": []
          },
          "execution_count": 32
        },
        {
          "output_type": "display_data",
          "data": {
            "image/png": "[encoded data removed]",
            "text/plain": [
              "<Figure size 432x288 with 1 Axes>"
            ]
          },
          "metadata": {
            "tags": [],
            "needs_background": "light"
          }
        }
      ]
    },
    {
      "cell_type": "code",
      "metadata": {
        "id": "ryCTqBrvSCp7",
        "colab_type": "code",
        "colab": {
          "base_uri": "https://localhost:8080/",
          "height": 298
        },
        "outputId": "261db6f5-dc94-4d4a-82fd-8663e8ac9f87"
      },
      "source": [
        "# realizar mudança de faixa para enganar o leitor\n",
        "plt.ticklabel_format(useOffset=False)\n",
        "plt.axis([2016.5,2020.5,340,425])\n",
        "\n",
        "# Realize o plot dos anos\n",
        "plt.bar(years,mentions,0.8)\n",
        "# cutomizar os eixos X e Y\n",
        "plt.xticks(years)\n",
        "plt.ylabel('# de vezes ouvi sobre datascience')\n",
        "plt.bar(years,mentions,0.8)\n",
        "\n",
        "# customizar o título\n",
        "plt.title(\"Grande aumento, veja só!\")"
      ],
      "execution_count": null,
      "outputs": [
        {
          "output_type": "execute_result",
          "data": {
            "text/plain": [
              "Text(0.5, 1.0, 'Grande aumento, veja só!')"
            ]
          },
          "metadata": {
            "tags": []
          },
          "execution_count": 33
        },
        {
          "output_type": "display_data",
          "data": {
            "image/png": "[encoded data removed]",
            "text/plain": [
              "<Figure size 432x288 with 1 Axes>"
            ]
          },
          "metadata": {
            "tags": [],
            "needs_background": "light"
          }
        }
      ]
    },
    {
      "cell_type": "code",
      "metadata": {
        "id": "09yn2Cp1EA0X",
        "colab_type": "code",
        "colab": {
          "base_uri": "https://localhost:8080/",
          "height": 298
        },
        "outputId": "6a3f6f47-3e98-4915-fc52-686a24fd70a4"
      },
      "source": [
        "# realizar mudança de faixa para enganar o leitor\n",
        "plt.ticklabel_format(useOffset=False)\n",
        "plt.axis([2016.5,2020.5,0,425])\n",
        "\n",
        "# Realize o plot dos anos\n",
        "plt.bar(years,mentions,0.8)\n",
        "# cutomizar os eixos X e Y\n",
        "plt.xticks(years)\n",
        "plt.ylabel('# de vezes ouvi sobre datascience')\n",
        "plt.bar(years,mentions,0.8)\n",
        "\n",
        "# customizar o título\n",
        "plt.title(\"Não aumentou tanto assim... né?\")"
      ],
      "execution_count": null,
      "outputs": [
        {
          "output_type": "execute_result",
          "data": {
            "text/plain": [
              "Text(0.5, 1.0, 'Não aumentou tanto assim... né?')"
            ]
          },
          "metadata": {
            "tags": []
          },
          "execution_count": 34
        },
        {
          "output_type": "display_data",
          "data": {
            "image/png": "[encoded data removed]",
            "text/plain": [
              "<Figure size 432x288 with 1 Axes>"
            ]
          },
          "metadata": {
            "tags": [],
            "needs_background": "light"
          }
        }
      ]
    },
    {
      "cell_type": "code",
      "metadata": {
        "id": "sorxsGlEFQn4",
        "colab_type": "code",
        "colab": {}
      },
      "source": [
        ""
      ],
      "execution_count": null,
      "outputs": []
    },
    {
      "cell_type": "code",
      "metadata": {
        "id": "HGXLKVw27S7M",
        "colab_type": "code",
        "colab": {}
      },
      "source": [
        ""
      ],
      "execution_count": null,
      "outputs": []
    },
    {
      "cell_type": "code",
      "metadata": {
        "id": "uwDiT-YNQVPS",
        "colab_type": "code",
        "colab": {}
      },
      "source": [
        ""
      ],
      "execution_count": null,
      "outputs": []
    }
  ]
}