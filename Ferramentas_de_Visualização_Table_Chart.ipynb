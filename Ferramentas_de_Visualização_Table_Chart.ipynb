{
  "nbformat": 4,
  "nbformat_minor": 0,
  "metadata": {
    "colab": {
      "name": "Ferramentas de Visualização - Table Chart",
      "provenance": [],
      "authorship_tag": "ABX9TyMg0HDY0xQWR30AUHAEiPfp",
      "include_colab_link": true
    },
    "kernelspec": {
      "name": "python3",
      "display_name": "Python 3"
    }
  },
  "cells": [
    {
      "cell_type": "markdown",
      "metadata": {
        "id": "view-in-github",
        "colab_type": "text"
      },
      "source": [
        "<a href=\"https://colab.research.google.com/github/aprendadatascience/visualization-tools/blob/master/Ferramentas_de_Visualiza%C3%A7%C3%A3o_Table_Chart.ipynb\" target=\"_parent\"><img src=\"https://colab.research.google.com/assets/colab-badge.svg\" alt=\"Open In Colab\"/></a>"
      ]
    },
    {
      "cell_type": "markdown",
      "metadata": {
        "id": "sijJvxB49L9y",
        "colab_type": "text"
      },
      "source": [
        "# Aprenda Data Science \n",
        "\n",
        "---\n",
        "\n",
        "\n",
        "## Ferramentas de Visualização - Table Chart"
      ]
    },
    {
      "cell_type": "markdown",
      "metadata": {
        "id": "7RyAtPXkH28C",
        "colab_type": "text"
      },
      "source": [
        "#### O table chart combina um gráfico de barras com uma tabela. \n",
        "\n",
        "#### Pode ser interessante para visualizar a contribuição de cada item no gráfico de barra ao fornecer a tabela numérica como apoio.\n",
        "\n",
        "Exemplo disponível na documentação do matplotlib em <br> https://matplotlib.org/3.1.1/gallery/misc/table_demo.html#sphx-glr-gallery-misc-table-demo-py"
      ]
    },
    {
      "cell_type": "markdown",
      "metadata": {
        "id": "y0weLIGpt3TS",
        "colab_type": "text"
      },
      "source": [
        "### Vamos declarar as variáveis que usaremos"
      ]
    },
    {
      "cell_type": "code",
      "metadata": {
        "id": "zJ4mk3zHETAS",
        "colab_type": "code",
        "colab": {}
      },
      "source": [
        "import numpy as np\n",
        "import matplotlib.pyplot as plt\n",
        "\n",
        "\n",
        "dados = [[ 66386, 174296,  75131, 577908,  32015],\n",
        "        [ 58230, 381139,  78045,  99308, 160454],\n",
        "        [ 89135,  80552, 152558, 497981, 603535],\n",
        "        [ 78415,  81858, 150656, 193263,  69638],\n",
        "        [139361, 331509, 343164, 781380,  52269]]\n",
        "\n",
        "colunas = ('Congelamento', 'Ventos', 'Inundação', 'Terremoto', 'Granizo')\n",
        "linhas = ['100 anos', '50 anos', '20 anos', '10 anos', '5 anos']"
      ],
      "execution_count": 1,
      "outputs": []
    },
    {
      "cell_type": "markdown",
      "metadata": {
        "id": "sYrDr8H5rOzv",
        "colab_type": "text"
      },
      "source": [
        "### Configurar o gráfico de barra"
      ]
    },
    {
      "cell_type": "code",
      "metadata": {
        "id": "AQxsteiRp2AM",
        "colab_type": "code",
        "colab": {
          "base_uri": "https://localhost:8080/",
          "height": 276
        },
        "outputId": "b5270c2e-e471-453d-b9cf-cd48bd699d7f"
      },
      "source": [
        "valores = np.arange(0, 2500, 500)\n",
        "incremento = 1000\n",
        "\n",
        "# configurar cores para o gráfico de tabela\n",
        "cores = plt.cm.BuPu(np.linspace(0, 0.5, len(linhas)))\n",
        "n_linhas = len(dados)\n",
        "\n",
        "indice_x = np.arange(len(colunas)) + 0.5\n",
        "largura_barra = 0.4\n",
        "\n",
        "# Inicializar variável com o offset vertical para a pilha de barras\n",
        "y_offset = np.zeros(len(colunas))\n",
        "\n",
        "# Plotar as barras e criar os labels para a tabela\n",
        "cell_text = []\n",
        "for row in range(n_linhas):\n",
        "    plot = plt.bar(indice_x, dados[row], largura_barra, bottom=y_offset, color=cores[row])\n",
        "    y_offset = y_offset + dados[row]\n",
        "    cell_text.append(['%1.1f' % (x / 1000.0) for x in y_offset])\n",
        "    i=0\n",
        "\n",
        "# Reverter as cores e rótulos para mostrar o maior o último valor no topo\n",
        "cores = cores[::-1]\n",
        "cell_text.reverse()"
      ],
      "execution_count": 2,
      "outputs": [
        {
          "output_type": "display_data",
          "data": {
            "image/png": "[encoded data removed]",
            "text/plain": [
              "<Figure size 432x288 with 1 Axes>"
            ]
          },
          "metadata": {
            "tags": [],
            "needs_background": "light"
          }
        }
      ]
    },
    {
      "cell_type": "markdown",
      "metadata": {
        "id": "EGuJ3rXRwJ4q",
        "colab_type": "text"
      },
      "source": [
        "### Configurar a tabela inferior ao gráfico"
      ]
    },
    {
      "cell_type": "code",
      "metadata": {
        "id": "PBh-_glinowx",
        "colab_type": "code",
        "colab": {
          "base_uri": "https://localhost:8080/",
          "height": 325
        },
        "outputId": "cbce87aa-a202-4dc4-92cc-75030b36e849"
      },
      "source": [
        "# Adiona a tabela na parte inferior do gráfico\n",
        "the_table = plt.table(cellText=cell_text,\n",
        "                      rowLabels=linhas,\n",
        "                     rowColours=cores,\n",
        "                      colLabels=colunas,\n",
        "                      loc='bottom')\n",
        "\n",
        "valores = np.arange(0, 2500, 500)\n",
        "incremento = 1000\n",
        "# Ajuste no layout para receber a tabela:\n",
        "plt.subplots_adjust(left=0.2, bottom=0.2)\n",
        "\n",
        "plt.ylabel(\"Perda em ${0}'s\".format(incremento))\n",
        "plt.yticks(valores * incremento, ['%d' % val for val in valores])\n",
        "plt.xticks([])\n",
        "plt.title('Perda por tipos de Desastres')"
      ],
      "execution_count": 3,
      "outputs": [
        {
          "output_type": "execute_result",
          "data": {
            "text/plain": [
              "Text(0.5, 1.0, 'Perda por tipos de Desastres')"
            ]
          },
          "metadata": {
            "tags": []
          },
          "execution_count": 3
        },
        {
          "output_type": "display_data",
          "data": {
            "image/png": "[encoded data removed]",
            "text/plain": [
              "<Figure size 432x288 with 1 Axes>"
            ]
          },
          "metadata": {
            "tags": [],
            "needs_background": "light"
          }
        }
      ]
    },
    {
      "cell_type": "markdown",
      "metadata": {
        "id": "GCRkrRaZwO2a",
        "colab_type": "text"
      },
      "source": [
        "### Consolidando os dois gráficos"
      ]
    },
    {
      "cell_type": "code",
      "metadata": {
        "id": "LseqzqTsoVos",
        "colab_type": "code",
        "colab": {
          "base_uri": "https://localhost:8080/",
          "height": 651
        },
        "outputId": "222ed058-cf29-41b9-faf8-a12cb7e09f02"
      },
      "source": [
        "plt.rcParams['figure.figsize']=[12,10]\n",
        "\n",
        "# configurar cores para o gráfico de tabela\n",
        "cores = plt.cm.BuPu(np.linspace(0, 0.5, len(linhas)))\n",
        "n_linhas = len(dados)\n",
        "\n",
        "indice_x = np.arange(len(colunas)) + 0.3\n",
        "largura_barra = 0.4\n",
        "\n",
        "# Inicializar variável com o offset vertical para a pilha de barras\n",
        "y_offset = np.zeros(len(colunas))\n",
        "\n",
        "# Plotar as barras e criar os labels para a tabela\n",
        "cell_text = []\n",
        "for row in range(n_linhas):\n",
        "    plt.bar(indice_x, dados[row], largura_barra, bottom=y_offset, color=cores[row])\n",
        "    y_offset = y_offset + dados[row]\n",
        "    cell_text.append(['%1.1f' % (x / 1000.0) for x in y_offset])\n",
        "# Reverse colors and text labels to display the last value at the top.\n",
        "cores = cores[::-1]\n",
        "cell_text.reverse()\n",
        "\n",
        "# Adiona a tabela na parte inferior do gráfico\n",
        "the_table = plt.table(cellText=cell_text,\n",
        "                      rowLabels=linhas,\n",
        "                     rowColours=cores,\n",
        "                      colLabels=colunas,\n",
        "                      #colWidths=[0.3 for x in colunas],\n",
        "                      loc='bottom')\n",
        "the_table.auto_set_column_width(False)\n",
        "the_table.auto_set_font_size(False)\n",
        "the_table.set_fontsize(12)\n",
        "\n",
        "\n",
        "valores = np.arange(0, 2500, 500)\n",
        "incremento = 1000\n",
        "\n",
        "# Ajuste no layout para receber a tabela:\n",
        "plt.subplots_adjust(left=0.2, bottom=0.2)\n",
        "the_table.scale(1, 1.5)\n",
        "plt.ylabel(\"Perda em ${0}'s\".format(incremento))\n",
        "plt.yticks(valores * incremento, ['%d' % val for val in valores])\n",
        "plt.xticks([])\n",
        "plt.grid()\n",
        "plt.title('Perdas por tipos de Desastres')"
      ],
      "execution_count": 10,
      "outputs": [
        {
          "output_type": "execute_result",
          "data": {
            "text/plain": [
              "Text(0.5, 1.0, 'Perdas por tipos de Desastres')"
            ]
          },
          "metadata": {
            "tags": []
          },
          "execution_count": 10
        },
        {
          "output_type": "display_data",
          "data": {
            "image/png": "[encoded data removed]",
            "text/plain": [
              "<Figure size 864x720 with 1 Axes>"
            ]
          },
          "metadata": {
            "tags": [],
            "needs_background": "light"
          }
        }
      ]
    },
    {
      "cell_type": "code",
      "metadata": {
        "id": "Y8c-kXj9XI-w",
        "colab_type": "code",
        "colab": {}
      },
      "source": [
        ""
      ],
      "execution_count": 4,
      "outputs": []
    },
    {
      "cell_type": "code",
      "metadata": {
        "id": "oUbtkqt5XJB2",
        "colab_type": "code",
        "colab": {}
      },
      "source": [
        ""
      ],
      "execution_count": 4,
      "outputs": []
    },
    {
      "cell_type": "code",
      "metadata": {
        "id": "zx9Ab7vsXJNz",
        "colab_type": "code",
        "colab": {}
      },
      "source": [
        ""
      ],
      "execution_count": 4,
      "outputs": []
    },
    {
      "cell_type": "code",
      "metadata": {
        "id": "EhaJJY6hXJQX",
        "colab_type": "code",
        "colab": {}
      },
      "source": [
        ""
      ],
      "execution_count": 4,
      "outputs": []
    },
    {
      "cell_type": "code",
      "metadata": {
        "id": "ZV_2OKY3XJVs",
        "colab_type": "code",
        "colab": {}
      },
      "source": [
        ""
      ],
      "execution_count": 4,
      "outputs": []
    },
    {
      "cell_type": "code",
      "metadata": {
        "id": "pMzMKDv6XJT0",
        "colab_type": "code",
        "colab": {}
      },
      "source": [
        ""
      ],
      "execution_count": 4,
      "outputs": []
    }
  ]
}